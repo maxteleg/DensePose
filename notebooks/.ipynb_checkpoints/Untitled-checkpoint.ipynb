{
 "cells": [
  {
   "cell_type": "code",
   "execution_count": 1,
   "metadata": {},
   "outputs": [],
   "source": [
    "from __future__ import absolute_import\n",
    "from __future__ import division\n",
    "from __future__ import print_function\n",
    "from __future__ import unicode_literals\n",
    "\n",
    "from collections import defaultdict\n",
    "import argparse\n",
    "import cv2  # NOQA (Must import before importing caffe2 due to bug in cv2)\n",
    "import glob\n",
    "import logging\n",
    "import os\n",
    "import sys\n",
    "import time\n",
    "\n",
    "from caffe2.python import workspace\n",
    "\n",
    "from detectron.core.config import assert_and_infer_cfg\n",
    "from detectron.core.config import cfg\n",
    "from detectron.core.config import merge_cfg_from_file\n",
    "from detectron.utils.io import cache_url\n",
    "from detectron.utils.logging import setup_logging\n",
    "from detectron.utils.timer import Timer\n",
    "import detectron.core.test_engine as infer_engine\n",
    "import detectron.datasets.dummy_datasets as dummy_datasets\n",
    "import detectron.utils.c2 as c2_utils\n",
    "import detectron.utils.vis as vis_utils"
   ]
  },
  {
   "cell_type": "code",
   "execution_count": 2,
   "metadata": {},
   "outputs": [
    {
     "name": "stderr",
     "output_type": "stream",
     "text": [
      "WARNING:root:[====DEPRECATE WARNING====]: you are creating an object from CNNModelHelper class which will be deprecated soon. Please use ModelHelper object with brew module. For more information, please refer to caffe2.ai and python/brew.py, python/brew_test.py for more information.\n"
     ]
    },
    {
     "name": "stdout",
     "output_type": "stream",
     "text": [
      "Found Detectron ops lib: /usr/local/lib/libcaffe2_detectron_ops_gpu.so\n"
     ]
    }
   ],
   "source": [
    "c2_utils.import_detectron_ops()\n",
    "cv2.ocl.setUseOpenCL(False)\n",
    "merge_cfg_from_file(\"../configs/DensePose_ResNet101_FPN_s1x-e2e.yaml\")\n",
    "cfg.NUM_GPUS = 1\n",
    "model = infer_engine.initialize_model_from_cfg(\"../DensePoseData/DensePose_ResNet101_FPN_s1x-e2e.pkl\")\n",
    "workspace.GlobalInit(['caffe2', '--caffe2_log_level=0'])"
   ]
  },
  {
   "cell_type": "code",
   "execution_count": 3,
   "metadata": {},
   "outputs": [
    {
     "name": "stderr",
     "output_type": "stream",
     "text": [
      "WARNING:caffe2.python.workspace:Original python traceback for operator `361` in network `generalized_rcnn` in exception above (most recent call last):\n",
      "WARNING:caffe2.python.workspace:  File \"/usr/lib/python2.7/runpy.py\", line 174, in _run_module_as_main\n",
      "WARNING:caffe2.python.workspace:  File \"/usr/lib/python2.7/runpy.py\", line 72, in _run_code\n",
      "WARNING:caffe2.python.workspace:  File \"/usr/local/lib/python2.7/dist-packages/ipykernel_launcher.py\", line 16, in <module>\n",
      "WARNING:caffe2.python.workspace:  File \"/usr/local/lib/python2.7/dist-packages/traitlets/config/application.py\", line 658, in launch_instance\n",
      "WARNING:caffe2.python.workspace:  File \"/usr/local/lib/python2.7/dist-packages/ipykernel/kernelapp.py\", line 486, in start\n",
      "WARNING:caffe2.python.workspace:  File \"/usr/lib/python2.7/dist-packages/zmq/eventloop/ioloop.py\", line 162, in start\n",
      "WARNING:caffe2.python.workspace:  File \"/usr/lib/python2.7/dist-packages/tornado/ioloop.py\", line 866, in start\n",
      "WARNING:caffe2.python.workspace:  File \"/usr/lib/python2.7/dist-packages/tornado/stack_context.py\", line 275, in null_wrapper\n",
      "WARNING:caffe2.python.workspace:  File \"/usr/lib/python2.7/dist-packages/zmq/eventloop/zmqstream.py\", line 440, in _handle_events\n",
      "WARNING:caffe2.python.workspace:  File \"/usr/lib/python2.7/dist-packages/zmq/eventloop/zmqstream.py\", line 472, in _handle_recv\n",
      "WARNING:caffe2.python.workspace:  File \"/usr/lib/python2.7/dist-packages/zmq/eventloop/zmqstream.py\", line 414, in _run_callback\n",
      "WARNING:caffe2.python.workspace:  File \"/usr/lib/python2.7/dist-packages/tornado/stack_context.py\", line 275, in null_wrapper\n",
      "WARNING:caffe2.python.workspace:  File \"/usr/local/lib/python2.7/dist-packages/ipykernel/kernelbase.py\", line 283, in dispatcher\n",
      "WARNING:caffe2.python.workspace:  File \"/usr/local/lib/python2.7/dist-packages/ipykernel/kernelbase.py\", line 233, in dispatch_shell\n",
      "WARNING:caffe2.python.workspace:  File \"/usr/local/lib/python2.7/dist-packages/ipykernel/kernelbase.py\", line 399, in execute_request\n",
      "WARNING:caffe2.python.workspace:  File \"/usr/local/lib/python2.7/dist-packages/ipykernel/ipkernel.py\", line 208, in do_execute\n",
      "WARNING:caffe2.python.workspace:  File \"/usr/local/lib/python2.7/dist-packages/ipykernel/zmqshell.py\", line 537, in run_cell\n",
      "WARNING:caffe2.python.workspace:  File \"/usr/local/lib/python2.7/dist-packages/IPython/core/interactiveshell.py\", line 2714, in run_cell\n",
      "WARNING:caffe2.python.workspace:  File \"/usr/local/lib/python2.7/dist-packages/IPython/core/interactiveshell.py\", line 2818, in run_ast_nodes\n",
      "WARNING:caffe2.python.workspace:  File \"/usr/local/lib/python2.7/dist-packages/IPython/core/interactiveshell.py\", line 2878, in run_code\n",
      "WARNING:caffe2.python.workspace:  File \"<ipython-input-2-ab59e9f20d98>\", line 5, in <module>\n",
      "WARNING:caffe2.python.workspace:  File \"/home/yym/Soft/densepose/detectron/core/test_engine.py\", line 334, in initialize_model_from_cfg\n",
      "WARNING:caffe2.python.workspace:  File \"/home/yym/Soft/densepose/detectron/modeling/model_builder.py\", line 119, in create\n",
      "WARNING:caffe2.python.workspace:  File \"/home/yym/Soft/densepose/detectron/modeling/model_builder.py\", line 84, in generalized_rcnn\n",
      "WARNING:caffe2.python.workspace:  File \"/home/yym/Soft/densepose/detectron/modeling/model_builder.py\", line 233, in build_generic_detection_model\n",
      "WARNING:caffe2.python.workspace:  File \"/home/yym/Soft/densepose/detectron/modeling/optimizer.py\", line 46, in build_data_parallel_model\n",
      "WARNING:caffe2.python.workspace:  File \"/home/yym/Soft/densepose/detectron/modeling/model_builder.py\", line 200, in _single_gpu_build_func\n",
      "WARNING:caffe2.python.workspace:  File \"/home/yym/Soft/densepose/detectron/modeling/model_builder.py\", line 258, in _add_fast_rcnn_head\n",
      "WARNING:caffe2.python.workspace:  File \"/home/yym/Soft/densepose/detectron/modeling/fast_rcnn_heads.py\", line 103, in add_roi_2mlp_head\n",
      "WARNING:caffe2.python.workspace:  File \"/home/yym/Soft/densepose/detectron/modeling/detector.py\", line 268, in RoIFeatureTransform\n"
     ]
    },
    {
     "ename": "RuntimeError",
     "evalue": "[enforce fail at blob.h:84] IsType<T>(). wrong type for the Blob instance. Blob contains nullptr (uninitialized) while caller expects caffe2::Tensor<caffe2::CUDAContext> .\nOffending Blob name: gpu_0/rois_fpn5.\nError from operator: \ninput: \"gpu_0/fpn_res5_2_sum\" input: \"gpu_0/rois_fpn5\" output: \"gpu_0/roi_feat_fpn5\" name: \"\" type: \"RoIAlign\" arg { name: \"pooled_h\" i: 7 } arg { name: \"sampling_ratio\" i: 2 } arg { name: \"spatial_scale\" f: 0.03125 } arg { name: \"pooled_w\" i: 7 } device_option { device_type: 1 cuda_gpu_id: 0 }",
     "output_type": "error",
     "traceback": [
      "\u001b[0;31m---------------------------------------------------------------------------\u001b[0m",
      "\u001b[0;31mRuntimeError\u001b[0m                              Traceback (most recent call last)",
      "\u001b[0;32m<ipython-input-3-0fa286464000>\u001b[0m in \u001b[0;36m<module>\u001b[0;34m()\u001b[0m\n\u001b[1;32m      6\u001b[0m     \u001b[0;32mwith\u001b[0m \u001b[0mc2_utils\u001b[0m\u001b[0;34m.\u001b[0m\u001b[0mNamedCudaScope\u001b[0m\u001b[0;34m(\u001b[0m\u001b[0;36m0\u001b[0m\u001b[0;34m)\u001b[0m\u001b[0;34m:\u001b[0m\u001b[0;34m\u001b[0m\u001b[0m\n\u001b[1;32m      7\u001b[0m         cls_boxes, cls_segms, cls_keyps, cls_bodys = infer_engine.im_detect_all(\n\u001b[0;32m----> 8\u001b[0;31m             \u001b[0mmodel\u001b[0m\u001b[0;34m,\u001b[0m \u001b[0mimg\u001b[0m\u001b[0;34m,\u001b[0m \u001b[0mNone\u001b[0m\u001b[0;34m,\u001b[0m \u001b[0mtimers\u001b[0m\u001b[0;34m=\u001b[0m\u001b[0mtimers\u001b[0m\u001b[0;34m\u001b[0m\u001b[0m\n\u001b[0m\u001b[1;32m      9\u001b[0m         )\n\u001b[1;32m     10\u001b[0m     vis_utils.vis_one_image_opencv(\n",
      "\u001b[0;32m/home/yym/Soft/densepose/detectron/core/test.pyc\u001b[0m in \u001b[0;36mim_detect_all\u001b[0;34m(model, im, box_proposals, timers)\u001b[0m\n\u001b[1;32m     56\u001b[0m     \u001b[0;32melse\u001b[0m\u001b[0;34m:\u001b[0m\u001b[0;34m\u001b[0m\u001b[0m\n\u001b[1;32m     57\u001b[0m         scores, boxes, im_scale = im_detect_bbox(\n\u001b[0;32m---> 58\u001b[0;31m             \u001b[0mmodel\u001b[0m\u001b[0;34m,\u001b[0m \u001b[0mim\u001b[0m\u001b[0;34m,\u001b[0m \u001b[0mcfg\u001b[0m\u001b[0;34m.\u001b[0m\u001b[0mTEST\u001b[0m\u001b[0;34m.\u001b[0m\u001b[0mSCALE\u001b[0m\u001b[0;34m,\u001b[0m \u001b[0mcfg\u001b[0m\u001b[0;34m.\u001b[0m\u001b[0mTEST\u001b[0m\u001b[0;34m.\u001b[0m\u001b[0mMAX_SIZE\u001b[0m\u001b[0;34m,\u001b[0m \u001b[0mboxes\u001b[0m\u001b[0;34m=\u001b[0m\u001b[0mbox_proposals\u001b[0m\u001b[0;34m\u001b[0m\u001b[0m\n\u001b[0m\u001b[1;32m     59\u001b[0m         )\n\u001b[1;32m     60\u001b[0m     \u001b[0mtimers\u001b[0m\u001b[0;34m[\u001b[0m\u001b[0;34m'im_detect_bbox'\u001b[0m\u001b[0;34m]\u001b[0m\u001b[0;34m.\u001b[0m\u001b[0mtoc\u001b[0m\u001b[0;34m(\u001b[0m\u001b[0;34m)\u001b[0m\u001b[0;34m\u001b[0m\u001b[0m\n",
      "\u001b[0;32m/home/yym/Soft/densepose/detectron/core/test.pyc\u001b[0m in \u001b[0;36mim_detect_bbox\u001b[0;34m(model, im, target_scale, target_max_size, boxes)\u001b[0m\n\u001b[1;32m    156\u001b[0m     \u001b[0;32mfor\u001b[0m \u001b[0mk\u001b[0m\u001b[0;34m,\u001b[0m \u001b[0mv\u001b[0m \u001b[0;32min\u001b[0m \u001b[0minputs\u001b[0m\u001b[0;34m.\u001b[0m\u001b[0mitems\u001b[0m\u001b[0;34m(\u001b[0m\u001b[0;34m)\u001b[0m\u001b[0;34m:\u001b[0m\u001b[0;34m\u001b[0m\u001b[0m\n\u001b[1;32m    157\u001b[0m         \u001b[0mworkspace\u001b[0m\u001b[0;34m.\u001b[0m\u001b[0mFeedBlob\u001b[0m\u001b[0;34m(\u001b[0m\u001b[0mcore\u001b[0m\u001b[0;34m.\u001b[0m\u001b[0mScopedName\u001b[0m\u001b[0;34m(\u001b[0m\u001b[0mk\u001b[0m\u001b[0;34m)\u001b[0m\u001b[0;34m,\u001b[0m \u001b[0mv\u001b[0m\u001b[0;34m)\u001b[0m\u001b[0;34m\u001b[0m\u001b[0m\n\u001b[0;32m--> 158\u001b[0;31m     \u001b[0mworkspace\u001b[0m\u001b[0;34m.\u001b[0m\u001b[0mRunNet\u001b[0m\u001b[0;34m(\u001b[0m\u001b[0mmodel\u001b[0m\u001b[0;34m.\u001b[0m\u001b[0mnet\u001b[0m\u001b[0;34m.\u001b[0m\u001b[0mProto\u001b[0m\u001b[0;34m(\u001b[0m\u001b[0;34m)\u001b[0m\u001b[0;34m.\u001b[0m\u001b[0mname\u001b[0m\u001b[0;34m)\u001b[0m\u001b[0;34m\u001b[0m\u001b[0m\n\u001b[0m\u001b[1;32m    159\u001b[0m \u001b[0;34m\u001b[0m\u001b[0m\n\u001b[1;32m    160\u001b[0m     \u001b[0;31m# Read out blobs\u001b[0m\u001b[0;34m\u001b[0m\u001b[0;34m\u001b[0m\u001b[0m\n",
      "\u001b[0;32m/usr/local/lib/python2.7/dist-packages/caffe2/python/workspace.py\u001b[0m in \u001b[0;36mRunNet\u001b[0;34m(name, num_iter, allow_fail)\u001b[0m\n\u001b[1;32m    215\u001b[0m         \u001b[0mC\u001b[0m\u001b[0;34m.\u001b[0m\u001b[0mWorkspace\u001b[0m\u001b[0;34m.\u001b[0m\u001b[0mcurrent\u001b[0m\u001b[0;34m.\u001b[0m\u001b[0m_last_failed_op_net_position\u001b[0m\u001b[0;34m,\u001b[0m\u001b[0;34m\u001b[0m\u001b[0m\n\u001b[1;32m    216\u001b[0m         \u001b[0mGetNetName\u001b[0m\u001b[0;34m(\u001b[0m\u001b[0mname\u001b[0m\u001b[0;34m)\u001b[0m\u001b[0;34m,\u001b[0m\u001b[0;34m\u001b[0m\u001b[0m\n\u001b[0;32m--> 217\u001b[0;31m         \u001b[0mStringifyNetName\u001b[0m\u001b[0;34m(\u001b[0m\u001b[0mname\u001b[0m\u001b[0;34m)\u001b[0m\u001b[0;34m,\u001b[0m \u001b[0mnum_iter\u001b[0m\u001b[0;34m,\u001b[0m \u001b[0mallow_fail\u001b[0m\u001b[0;34m,\u001b[0m\u001b[0;34m\u001b[0m\u001b[0m\n\u001b[0m\u001b[1;32m    218\u001b[0m     )\n\u001b[1;32m    219\u001b[0m \u001b[0;34m\u001b[0m\u001b[0m\n",
      "\u001b[0;32m/usr/local/lib/python2.7/dist-packages/caffe2/python/workspace.py\u001b[0m in \u001b[0;36mCallWithExceptionIntercept\u001b[0;34m(func, op_id_fetcher, net_name, *args, **kwargs)\u001b[0m\n\u001b[1;32m    176\u001b[0m \u001b[0;32mdef\u001b[0m \u001b[0mCallWithExceptionIntercept\u001b[0m\u001b[0;34m(\u001b[0m\u001b[0mfunc\u001b[0m\u001b[0;34m,\u001b[0m \u001b[0mop_id_fetcher\u001b[0m\u001b[0;34m,\u001b[0m \u001b[0mnet_name\u001b[0m\u001b[0;34m,\u001b[0m \u001b[0;34m*\u001b[0m\u001b[0margs\u001b[0m\u001b[0;34m,\u001b[0m \u001b[0;34m**\u001b[0m\u001b[0mkwargs\u001b[0m\u001b[0;34m)\u001b[0m\u001b[0;34m:\u001b[0m\u001b[0;34m\u001b[0m\u001b[0m\n\u001b[1;32m    177\u001b[0m     \u001b[0;32mtry\u001b[0m\u001b[0;34m:\u001b[0m\u001b[0;34m\u001b[0m\u001b[0m\n\u001b[0;32m--> 178\u001b[0;31m         \u001b[0;32mreturn\u001b[0m \u001b[0mfunc\u001b[0m\u001b[0;34m(\u001b[0m\u001b[0;34m*\u001b[0m\u001b[0margs\u001b[0m\u001b[0;34m,\u001b[0m \u001b[0;34m**\u001b[0m\u001b[0mkwargs\u001b[0m\u001b[0;34m)\u001b[0m\u001b[0;34m\u001b[0m\u001b[0m\n\u001b[0m\u001b[1;32m    179\u001b[0m     \u001b[0;32mexcept\u001b[0m \u001b[0mException\u001b[0m\u001b[0;34m:\u001b[0m\u001b[0;34m\u001b[0m\u001b[0m\n\u001b[1;32m    180\u001b[0m         \u001b[0mop_id\u001b[0m \u001b[0;34m=\u001b[0m \u001b[0mop_id_fetcher\u001b[0m\u001b[0;34m(\u001b[0m\u001b[0;34m)\u001b[0m\u001b[0;34m\u001b[0m\u001b[0m\n",
      "\u001b[0;31mRuntimeError\u001b[0m: [enforce fail at blob.h:84] IsType<T>(). wrong type for the Blob instance. Blob contains nullptr (uninitialized) while caller expects caffe2::Tensor<caffe2::CUDAContext> .\nOffending Blob name: gpu_0/rois_fpn5.\nError from operator: \ninput: \"gpu_0/fpn_res5_2_sum\" input: \"gpu_0/rois_fpn5\" output: \"gpu_0/roi_feat_fpn5\" name: \"\" type: \"RoIAlign\" arg { name: \"pooled_h\" i: 7 } arg { name: \"sampling_ratio\" i: 2 } arg { name: \"spatial_scale\" f: 0.03125 } arg { name: \"pooled_w\" i: 7 } device_option { device_type: 1 cuda_gpu_id: 0 }"
     ]
    }
   ],
   "source": [
    "timers = defaultdict(Timer)\n",
    "cap = cv2.VideoCapture(0)\n",
    "while cap.isOpened():\n",
    "    ret, frame = cap.read()\n",
    "    img = frame.copy()\n",
    "    with c2_utils.NamedCudaScope(0):\n",
    "        cls_boxes, cls_segms, cls_keyps, cls_bodys = infer_engine.im_detect_all(\n",
    "            model, img, None, timers=timers\n",
    "        )\n",
    "    vis_utils.vis_one_image_opencv(\n",
    "        frame,\n",
    "        cls_boxes,\n",
    "        cls_segms,\n",
    "        cls_keyps,\n",
    "        thresh=0.7,\n",
    "        show_class=True\n",
    "    )\n",
    "    cv2.imshow('frame', frame)\n",
    "    if cv2.waitKey(120) & 0xFF == ord('q'):\n",
    "        break\n",
    "\n",
    "cap.release()\n",
    "cv2.destroyAllWindows()"
   ]
  },
  {
   "cell_type": "code",
   "execution_count": null,
   "metadata": {},
   "outputs": [],
   "source": []
  }
 ],
 "metadata": {
  "kernelspec": {
   "display_name": "Python 2",
   "language": "python",
   "name": "python2"
  },
  "language_info": {
   "codemirror_mode": {
    "name": "ipython",
    "version": 2
   },
   "file_extension": ".py",
   "mimetype": "text/x-python",
   "name": "python",
   "nbconvert_exporter": "python",
   "pygments_lexer": "ipython2",
   "version": "2.7.12"
  }
 },
 "nbformat": 4,
 "nbformat_minor": 2
}
