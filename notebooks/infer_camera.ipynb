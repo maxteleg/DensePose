{
 "cells": [
  {
   "cell_type": "code",
   "execution_count": 1,
   "metadata": {
    "collapsed": true
   },
   "outputs": [
    {
     "name": "stdout",
     "output_type": "stream",
     "text": [
      "Found Detectron ops lib: /usr/local/lib/libcaffe2_detectron_ops_gpu.so\n"
     ]
    }
   ],
   "source": [
    "from __future__ import absolute_import\n",
    "from __future__ import division\n",
    "from __future__ import print_function\n",
    "from __future__ import unicode_literals\n",
    "\n",
    "from collections import defaultdict\n",
    "import argparse\n",
    "import cv2  # NOQA (Must import before importing caffe2 due to bug in cv2)\n",
    "import glob\n",
    "import logging\n",
    "import os\n",
    "import sys\n",
    "import time\n",
    "\n",
    "\n",
    "from caffe2.python import workspace\n",
    "import detectron.utils.env as envu\n",
    "envu.set_up_matplotlib()\n",
    "import matplotlib.pyplot as plt\n",
    "from detectron.core.config import assert_and_infer_cfg\n",
    "from detectron.core.config import cfg\n",
    "from detectron.core.config import merge_cfg_from_file\n",
    "from detectron.utils.io import cache_url\n",
    "from detectron.utils.logging import setup_logging\n",
    "from detectron.utils.timer import Timer\n",
    "import detectron.core.test_engine as infer_engine\n",
    "import detectron.datasets.dummy_datasets as dummy_datasets\n",
    "import detectron.utils.c2 as c2_utils\n",
    "import detectron.utils.vis as vis_utils\n",
    "\n",
    "c2_utils.import_detectron_ops()\n",
    "\n",
    "# OpenCL may be enabled by default in OpenCV3; disable it because it's not\n",
    "# thread safe and causes unwanted GPU memory allocations.\n",
    "cv2.ocl.setUseOpenCL(False)"
   ]
  },
  {
   "cell_type": "code",
   "execution_count": 2,
   "metadata": {},
   "outputs": [
    {
     "name": "stderr",
     "output_type": "stream",
     "text": [
      "usage: ipykernel_launcher.py [-h] [--cfg CFG] [--wts WEIGHTS]\n                             [--output-dir OUTPUT_DIR] [--image-ext IMAGE_EXT]\nipykernel_launcher.py: error: unrecognized arguments: -f /run/user/1000/jupyter/kernel-6dca923f-5928-465f-9cf3-e1e46551eca3.json\n"
     ]
    },
    {
     "ename": "SystemExit",
     "evalue": "2",
     "traceback": [
      "An exception has occurred, use %tb to see the full traceback.\n",
      "\u001b[0;31mSystemExit\u001b[0m\u001b[0;31m:\u001b[0m 2\n"
     ],
     "output_type": "error"
    },
    {
     "name": "stderr",
     "output_type": "stream",
     "text": [
      "/usr/local/lib/python2.7/dist-packages/IPython/core/interactiveshell.py:2886: UserWarning: To exit: use 'exit', 'quit', or Ctrl-D.\n  warn(\"To exit: use 'exit', 'quit', or Ctrl-D.\", stacklevel=1)\n"
     ]
    }
   ],
   "source": [
    "def parse_args():\n",
    "    parser = argparse.ArgumentParser(description='End-to-end inference')\n",
    "    parser.add_argument(\n",
    "        '--cfg',\n",
    "        dest='cfg',\n",
    "        help='cfg model file (/path/to/model_config.yaml)',\n",
    "        default='../configs/DensePose_ResNet101_FPN_s1x-e2e.yaml',\n",
    "        type=str\n",
    "    )\n",
    "    parser.add_argument(\n",
    "        '--wts',\n",
    "        dest='weights',\n",
    "        help='weights model file (/path/to/model_weights.pkl)',\n",
    "        default='../DensePoseData/DensePose_ResNet101_FPN_s1x-e2e.pkl',\n",
    "        type=str\n",
    "    )\n",
    "    parser.add_argument(\n",
    "        '--output-dir',\n",
    "        dest='output_dir',\n",
    "        help='directory for visualization pdfs (default: /tmp/infer_simple)',\n",
    "        default='/home/yym/tmp/infer_simple',\n",
    "        type=str\n",
    "    )\n",
    "    parser.add_argument(\n",
    "        '--image-ext',\n",
    "        dest='image_ext',\n",
    "        help='image file name extension (default: jpg)',\n",
    "        default='jpg',\n",
    "        type=str\n",
    "    )\n",
    "    # parser.add_argument(\n",
    "    #     'im_or_folder', help='image or folder of images', default=None\n",
    "    # )\n",
    "    # if len(sys.argv) == 1:\n",
    "    #     parser.print_help()\n",
    "    #     sys.exit(1)\n",
    "    return parser.parse_args()\n",
    "\n",
    "\n",
    "def main(args):\n",
    "    logger = logging.getLogger(__name__)\n",
    "    merge_cfg_from_file(args.cfg)\n",
    "    cfg.NUM_GPUS = 1\n",
    "    args.weights = cache_url(args.weights, cfg.DOWNLOAD_CACHE)\n",
    "    assert_and_infer_cfg(cache_urls=False)\n",
    "    model = infer_engine.initialize_model_from_cfg(args.weights)\n",
    "    dummy_coco_dataset = dummy_datasets.get_coco_dataset()\n",
    "\n",
    "    # if os.path.isdir(args.im_or_folder):\n",
    "    #     im_list = glob.iglob(args.im_or_folder + '/*.' + args.image_ext)\n",
    "    # else:\n",
    "    #     im_list = [args.im_or_folder]\n",
    "    cap = cv2.VideoCapture(0)\n",
    "    ret, frame = cap.read()\n",
    "\n",
    "    ax1 = plt.subplot(1, 3, 1)\n",
    "    ax2 = plt.subplot(1, 3, 2)\n",
    "    ax3 = plt.subplot(1, 3, 3)\n",
    "\n",
    "    im1 = ax1.imshow(frame)\n",
    "    im2 = ax2.imshow(frame)\n",
    "    im3 = ax3.imshow(frame)\n",
    "    plt.show()\n",
    "\n",
    "    while cap.isOpened():\n",
    "        ret, frame = cap.read()\n",
    "        # img = frame.copy()\n",
    "        timers = defaultdict(Timer)\n",
    "        t = time.time()\n",
    "        with c2_utils.NamedCudaScope(0):\n",
    "            cls_boxes, cls_segms, cls_keyps, cls_bodys = infer_engine.im_detect_all(\n",
    "                model, frame, None, timers=timers\n",
    "            )\n",
    "        logger.info('Inference time: {:.3f}s'.format(time.time() - t))\n",
    "        for k, v in timers.items():\n",
    "            logger.info(' | {}: {:.3f}s'.format(k, v.average_time))\n",
    "        print(cls_segms)\n",
    "        img, IUV, INDS = vis_utils.vis_one_image_uv(\n",
    "            # frame[:, :, ::-1],  # BGR -> RGB for visualization\n",
    "            frame,\n",
    "            cls_boxes,\n",
    "            cls_segms,\n",
    "            cls_keyps,\n",
    "            cls_bodys,\n",
    "            show_class=True,\n",
    "            show_box=True,\n",
    "            dataset=dummy_coco_dataset\n",
    "        )\n",
    "\n",
    "        im1.set_data(img)\n",
    "        im2.set_data(img)\n",
    "        im3.set_data(img)\n",
    "        plt.show()\n",
    "        plt.pause(0.12)\n",
    "\n",
    "    plt.ioff()\n",
    "    plt.show()\n",
    "\n",
    "\n",
    "workspace.GlobalInit(['caffe2', '--caffe2_log_level=0'])\n",
    "setup_logging(__name__)\n",
    "args = parse_args()\n",
    "main(args)"
   ]
  },
  {
   "cell_type": "code",
   "execution_count": 3,
   "metadata": {},
   "outputs": [
    {
     "name": "stderr",
     "output_type": "stream",
     "text": [
      "usage: ipykernel_launcher.py [-h] [--cfg CFG] [--wts WEIGHTS]\n                             [--output-dir OUTPUT_DIR] [--image-ext IMAGE_EXT]\nipykernel_launcher.py: error: unrecognized arguments: -f /run/user/1000/jupyter/kernel-6dca923f-5928-465f-9cf3-e1e46551eca3.json\n"
     ]
    },
    {
     "ename": "SystemExit",
     "evalue": "2",
     "traceback": [
      "An exception has occurred, use %tb to see the full traceback.\n",
      "\u001b[0;31mSystemExit\u001b[0m\u001b[0;31m:\u001b[0m 2\n"
     ],
     "output_type": "error"
    },
    {
     "name": "stderr",
     "output_type": "stream",
     "text": [
      "/usr/local/lib/python2.7/dist-packages/IPython/core/interactiveshell.py:2886: UserWarning: To exit: use 'exit', 'quit', or Ctrl-D.\n  warn(\"To exit: use 'exit', 'quit', or Ctrl-D.\", stacklevel=1)\n"
     ]
    }
   ],
   "source": [
    "    workspace.GlobalInit(['caffe2', '--caffe2_log_level=0'])\n",
    "    setup_logging(__name__)\n",
    "    args = parse_args()\n",
    "    main(args)"
   ]
  },
  {
   "cell_type": "code",
   "execution_count": null,
   "metadata": {},
   "outputs": [],
   "source": []
  }
 ],
 "metadata": {
  "kernelspec": {
   "display_name": "Python 2",
   "language": "python",
   "name": "python2"
  },
  "language_info": {
   "codemirror_mode": {
    "name": "ipython",
    "version": 2
   },
   "file_extension": ".py",
   "mimetype": "text/x-python",
   "name": "python",
   "nbconvert_exporter": "python",
   "pygments_lexer": "ipython2",
   "version": "2.7.6"
  }
 },
 "nbformat": 4,
 "nbformat_minor": 0
}
